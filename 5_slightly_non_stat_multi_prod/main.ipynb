{
 "cells": [
  {
   "cell_type": "code",
   "execution_count": null,
   "id": "78563f4f",
   "metadata": {},
   "outputs": [],
   "source": [
    "import numpy as np\n",
    "import matplotlib.pyplot as plt\n",
    "from scipy.stats import norm, multivariate_normal\n",
    "from scipy.optimize import linear_sum_assignment, linprog\n",
    "from scipy import optimize"
   ]
  }
 ],
 "metadata": {
  "language_info": {
   "name": "python"
  }
 },
 "nbformat": 4,
 "nbformat_minor": 5
}
