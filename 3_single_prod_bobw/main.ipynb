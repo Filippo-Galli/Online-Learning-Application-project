{
 "cells": [
  {
   "cell_type": "code",
   "execution_count": null,
   "id": "a6b2b64e",
   "metadata": {},
   "outputs": [],
   "source": [
    "import numpy as np\n",
    "import random\n",
    "import matplotlib.pyplot as plt\n",
    "import scipy.stats as stats"
   ]
  },
  {
   "cell_type": "markdown",
   "id": "b331bc84",
   "metadata": {},
   "source": [
    "# Environment Setup"
   ]
  },
  {
   "cell_type": "code",
   "execution_count": null,
   "id": "aeb0baf2",
   "metadata": {},
   "outputs": [],
   "source": [
    "class NonStationaryStochasticPricingEnvironment:\n",
    "    \"\"\"\n",
    "    Non-Stationary stochastic environment, with the distribution over customer valuations for a single product changing quickly over time.\n",
    "    \"\"\"\n",
    "    def __init__(self, valuation_distributions, demand_noise_std=0.1):\n",
    "        \"\"\"\n",
    "        Args:\n",
    "            valuation_distributions: A list of different scipy.stats distributions representing customer valuations\n",
    "            demand_noise_std: Standard deviation of noise in demand probability\n",
    "            current_round: Variable that keep the count of the round been played.\n",
    "        \"\"\"\n",
    "        self.valuation_dist = valuation_distributions\n",
    "        self.noise_std = demand_noise_std\n",
    "        self.current_round = 0\n",
    "\n",
    "\n",
    "    def demand_probability(self, price):\n",
    "        \"\"\"\n",
    "        Calculate the probability that a customer buys at given price.\n",
    "        This is P(valuation >= price) with some noise.\n",
    "        \"\"\"\n",
    "        # Retrieve the distribution associated with the current round\n",
    "        current_dist = self.valuation_dist[self.current_round]\n",
    "\n",
    "        # Base probability: customers buy if their valuation >= price\n",
    "        base_prob = 1 - current_dist.cdf(price)\n",
    "        \n",
    "        # Add some noise to make it stochastic\n",
    "        noise = np.random.normal(0, self.noise_std)\n",
    "        \n",
    "        prob = base_prob + noise\n",
    "        # Ensure probability is in [0, 1]\n",
    "        return np.clip(prob, 0, 1)\n",
    "    \n",
    "\n",
    "    def simulate_round(self, price):\n",
    "        \n",
    "        \"\"\"\n",
    "        Simulate one pricing round.\n",
    "        Returns: (sale_made, revenue)\n",
    "        \"\"\"\n",
    "\n",
    "        # Retrieve the distribution associated with the current round\n",
    "        current_dist = self.valuation_dist[self.current_round]\n",
    "\n",
    "        # Draw a random customer valuation from the distribution\n",
    "        valuation = current_dist.rvs()\n",
    "        \n",
    "        # Customer purchases if their valuation >= price\n",
    "        sale_made = 1 if valuation >= price else 0\n",
    "        \n",
    "        # Revenue is price if sale was made, 0 otherwise\n",
    "        revenue = sale_made * price\n",
    "        \n",
    "        # Updating rounds' count\n",
    "        self.current_round += 1\n",
    "\n",
    "        return sale_made, revenue"
   ]
  },
  {
   "cell_type": "markdown",
   "id": "8aa861eb",
   "metadata": {},
   "source": [
    "Poi quando vado a definire l'env conf, definisco una funzione lambda per media e std. Creo un vettore di distribuzioni da passare all'environment.\n",
    "Forse addirittura ha senso cambiare la distribuzione (e non farle solo normale), per creare un cambiamento più sharp."
   ]
  },
  {
   "cell_type": "markdown",
   "id": "3b88e9a9",
   "metadata": {},
   "source": [
    "# Agent"
   ]
  },
  {
   "cell_type": "markdown",
   "id": "307162c3",
   "metadata": {},
   "source": []
  },
  {
   "cell_type": "markdown",
   "id": "31e66431",
   "metadata": {},
   "source": [
    "PRIMAL-DUAL PROBLEM -> SECONDO ME DOVREBBE ANDARE BENE IL COMBINATORIAL UCB VISTO L'HINT.\n",
    "Domani ci lavoro meglio"
   ]
  }
 ],
 "metadata": {
  "language_info": {
   "name": "python"
  }
 },
 "nbformat": 4,
 "nbformat_minor": 5
}
